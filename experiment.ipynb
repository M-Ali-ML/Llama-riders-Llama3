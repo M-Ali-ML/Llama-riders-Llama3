{
 "cells": [
  {
   "cell_type": "code",
   "execution_count": 1,
   "metadata": {},
   "outputs": [
    {
     "name": "stderr",
     "output_type": "stream",
     "text": [
      "c:\\Users\\moh00\\anaconda3\\lib\\site-packages\\scipy\\__init__.py:146: UserWarning: A NumPy version >=1.16.5 and <1.23.0 is required for this version of SciPy (detected version 1.26.4\n",
      "  warnings.warn(f\"A NumPy version >={np_minversion} and <{np_maxversion}\"\n",
      "C:\\Users\\moh00\\AppData\\Roaming\\Python\\Python39\\site-packages\\pandas\\core\\computation\\expressions.py:21: UserWarning: Pandas requires version '2.8.4' or newer of 'numexpr' (version '2.7.3' currently installed).\n",
      "  from pandas.core.computation.check import NUMEXPR_INSTALLED\n",
      "C:\\Users\\moh00\\AppData\\Roaming\\Python\\Python39\\site-packages\\pandas\\core\\arrays\\masked.py:60: UserWarning: Pandas requires version '1.3.6' or newer of 'bottleneck' (version '1.3.2' currently installed).\n",
      "  from pandas.core import (\n",
      "None of PyTorch, TensorFlow >= 2.0, or Flax have been found. Models won't be available and only tokenizers, configuration and file/data utilities can be used.\n"
     ]
    }
   ],
   "source": [
    "import os\n",
    "from together import Together\n",
    "from dotenv import load_dotenv\n",
    "from llama_parse import LlamaParse\n",
    "from llama_index.core import SimpleDirectoryReader\n",
    "import nest_asyncio\n",
    "import glob\n",
    "import requests\n",
    "import re\n",
    "from llama_index.llms.together import TogetherLLM\n",
    "from llama_index.core.llms import ChatMessage\n"
   ]
  },
  {
   "cell_type": "code",
   "execution_count": 2,
   "metadata": {},
   "outputs": [],
   "source": [
    "load_dotenv()\n",
    "nest_asyncio.apply()"
   ]
  },
  {
   "cell_type": "code",
   "execution_count": 3,
   "metadata": {},
   "outputs": [],
   "source": [
    "def webscrape_url(url):\n",
    "    url = url.replace(\"https://\", \"\")\n",
    "    response = requests.get(\"https://r.jina.ai/\" + url)\n",
    "    return response.text"
   ]
  },
  {
   "cell_type": "code",
   "execution_count": 4,
   "metadata": {},
   "outputs": [
    {
     "name": "stdout",
     "output_type": "stream",
     "text": [
      "Title: Intern - Software Engineer\n",
      "\n",
      "URL Source: http://rakuten.wd1.myworkdayjobs.com/RakutenAmericas/job/Toronto-Canada/Intern---Software-Engineer_1020526-2?source=LinkedIn\n",
      "\n",
      "Markdown Content:\n",
      "**Job Description:**\n",
      "\n",
      "The Intern Experience:\n",
      "\n",
      "At Rakuten, we pride ourselves on giving interns a genuine, immersive experience that has a direct impact on company objectives. You will do meaningful work, and with us, you’ll be a true member of the team. We are also invested in your growth as an individual and professional. That’s why you can expect curated events such as professional development workshops, interactions with Rakuten leadership, and relationship building opportunities with other interns and professionals at the company.\n",
      "\n",
      "**You can visit** [**Rakuten.us**](http://rakuten.us/)**,** [**our Muse profile**](https://www.themuse.com/profiles/rakutenamericas/team/internships)**,** **or listen to our feature on** [**The Internship Show Podcast**](https://podcasters.spotify.com/pod/show/the-internship-show/episodes/Rakuten-Americas-Program-Overview-e218c8t/a-a9inndq)**, to learn more about Rakuten’s culture and values, and our internship program.**\n",
      "\n",
      "Rakuten Rewards is a profitable, high growth e-commerce company based in San Mateo, CA. We are part of the Rakuten family of companies. Rakuten is a very progressive company providing Rakuten Rewards with substantial capital, access to great technology, and access to international markets. We're always interested in meeting talented individuals interested in helping us change the way the world shops, so if you're passionate about helping save people money and improving the shopping experience apply below!\n",
      "\n",
      "We are looking for an energetic, detail-oriented software developer to join a talented team of product marketers, software developers, and designers. As developer, you will support the delivery of a robust roadmap of new consumer facing product launches and feature enhancements. We are looking for a Co-op student who is creative and resourceful. You will be part of a fast-paced dynamic team.\n",
      "\n",
      "**KEY RESPONSIBILITIES**\n",
      "\n",
      "*   Develop multiple approaches to a solution, deploy them in an A/B test to our customers, learn and adapt from the results\n",
      "    \n",
      "*   Analyze, develop and recommend metrics to drive business decisions\n",
      "    \n",
      "*   Collaborate with project manager, developers, and business units to develop products & services\n",
      "    \n",
      "\n",
      "**QUALIFICATIONS**\n",
      "\n",
      "*   Strong software development ability in either Java, C, C++, Python, algorithms and or similar\n",
      "    \n",
      "*   UI building with MVC principles a plus\n",
      "    \n",
      "*   Knowledge of API usage\n",
      "    \n",
      "*   Solid understanding of algorithms and data structures\n",
      "    \n",
      "*   Effective communication and collaborations skills\n",
      "    \n",
      "\n",
      "**MINIMUM REQUIREMENTS**\n",
      "\n",
      "*   Currently enrolled in a Bachelor, or Master’s program with an anticipated graduation date no earlier than December 2024\n",
      "    \n",
      "*   Relevant major or area of study in Computer Science, Computer Engineering, Software Engineering\n",
      "    \n",
      "*   Available for a 12-week full-time internship program in summer of 2024\n",
      "    \n",
      "*   Relevant prior internship experience (preferred)\n",
      "    \n",
      "\n",
      "**Five Principles for Success**Our worldwide practices describe specific behaviors that make Rakuten unique and united across the world. We expect Rakuten employees to model these 5 Shugi Principles of Success.\n",
      "\n",
      "**Always improve, Always Advance** - Only be satisfied with complete success - Kaizen  \n",
      "**Passionately Professiona**l - Take an uncompromising approach to your work and be determined to be the best  \n",
      "**Hypothesize - Practice - Validate – Shikumika** \\- Use the Rakuten Cycle to succeed in unknown territory  \n",
      "**Maximize Customer Satisfaction** - The greatest satisfaction for our teams is seeing their customers smile  \n",
      "**Speed!! Speed!! Speed!!** - Always be conscious of time - take charge, set clear goals, and engage your team\n",
      "\n",
      "_Rakuten provides equal employment opportunities to all employees and applicants for employment and prohibits discrimination and harassment of any type. Rakuten considers applicants for employment without regard to race, color, religion, age, sex, national origin, disability status, genetic information, protected veteran status, sexual orientation, gender, gender identity or expression, or any other characteristic protected by federal, state, provincial or local laws._\n",
      "\n"
     ]
    }
   ],
   "source": [
    "data1 = webscrape_url(\"https://rakuten.wd1.myworkdayjobs.com/RakutenAmericas/job/Toronto-Canada/Intern---Software-Engineer_1020526-2?source=LinkedIn\")\n",
    "print(data1)"
   ]
  },
  {
   "cell_type": "code",
   "execution_count": 5,
   "metadata": {},
   "outputs": [],
   "source": [
    "parser = LlamaParse(\n",
    "    result_type=\"markdown\"  # \"markdown\" and \"text\" are available\n",
    ")\n",
    "\n",
    "file_extractor = {\".pdf\": parser}\n"
   ]
  },
  {
   "cell_type": "code",
   "execution_count": 6,
   "metadata": {},
   "outputs": [
    {
     "name": "stdout",
     "output_type": "stream",
     "text": [
      "Started parsing the file under job_id cac11eca-76f5-46fa-b5ad-153d9d285ae8\n",
      "Started parsing the file under job_id cac11eca-44d7-4cf9-a114-30a4b46621b6\n"
     ]
    }
   ],
   "source": [
    "document_CV = SimpleDirectoryReader(input_files=glob.glob('assets\\\\CV_M_ALI_JULY.pdf'), file_extractor=file_extractor).load_data()\n",
    "document_linkedin = SimpleDirectoryReader(input_files=glob.glob('assets\\\\Profile.pdf'), file_extractor=file_extractor).load_data()"
   ]
  },
  {
   "cell_type": "code",
   "execution_count": 7,
   "metadata": {},
   "outputs": [],
   "source": [
    "full_text_linkedin = '\\n\\n'.join([page.text for page in document_linkedin])\n",
    "full_text_CV = '\\n\\n'.join([page.text for page in document_CV])"
   ]
  },
  {
   "cell_type": "code",
   "execution_count": 8,
   "metadata": {},
   "outputs": [],
   "source": [
    "llm = TogetherLLM(model=\"meta-llama/Meta-Llama-3-70B-Instruct-Turbo\",\n",
    "            api_key=os.environ.get('TOGETHER_API_KEY'),max_tokens=4096,temperature=0.1,\n",
    "    repetition_penalty=1,\n",
    "    stop=[\"<|eot_id|>\"],\n",
    "    stream=False)"
   ]
  },
  {
   "cell_type": "code",
   "execution_count": 24,
   "metadata": {},
   "outputs": [
    {
     "name": "stdout",
     "output_type": "stream",
     "text": [
      "Here are the key information extracted from the CV, LinkedIn profile, and job post in multiple unique bullet points:\n",
      "\n",
      "**Summary**\n",
      "\n",
      "* Mohamed A. Ali is a Machine Learning Engineer with a strong foundation in problem-solving and analytical background.\n",
      "* He has expertise in delivering significant results, including cost-saving mobile OCR models and improved risk assessment algorithms.\n",
      "* He excels in collaborative environments and has integrated multiple models for real-time inference and co-developed innovative AI solutions.\n",
      "\n",
      "**Experience**\n",
      "\n",
      "* Machine Learning Engineer at Blnk.ai (Mar 2023 - Present)\n",
      "\t+ Created a RAG system using open source LLMs for company’s technical documentation.\n",
      "\t+ Built a machine learning pipeline using Whisper (OpenAI LLM) fine-tuned to transcribe Arabic call center conversations.\n",
      "\t+ Trained and deployed in-house efficient quantized OCR deep learning models on mobile devices.\n",
      "\t+ Enhanced delinquency and risk assessment algorithms, improving accuracy by 20%.\n",
      "* Session Lead (Artificial Intelligent) at Udacity (Dec 2022 - Present)\n",
      "\t+ Led weekly sessions to address technical queries from students enrolled in Nanodegree programs.\n",
      "\t+ Facilitated a learning environment that fostered student engagement and self-empowerment through education.\n",
      "\n",
      "**Projects**\n",
      "\n",
      "* RAG based AI Assistant Providing Comprehensive Knowledge (May 2024)\n",
      "\t+ Developed and implemented a Retrieval-Augmented Generation system powered by LLMs.\n",
      "\t+ Deployed locally using quantized Llama 3 with llama.cpp and an embedding model for vector database embeddings.\n",
      "\t+ Designed and built a user-friendly web application using Streamlit for seamless interaction with the RAG system.\n",
      "\n",
      "**Skills**\n",
      "\n",
      "* Programming Languages: Python, C/C++\n",
      "* Framework & Libraries: Llama.cpp, Langchain, LlamaIndex, Pandas, NumPy, Scikit-learn, TensorFlow, PyTorch, OpenCV, TensorRT, Flutter, ONNX, and Docker.\n",
      "* Data Science & Miscellaneous Technologies: Machine learning, Deep learning, LLMs, AI agent, Prompt Engineering, NLP, Git, Web Scraping, Agile methodologies, Quantization, and GPU Optimization.\n",
      "\n",
      "**Education**\n",
      "\n",
      "* Bachelor of Engineering in Aerospace, Aeronautical and Space Engineering from Cairo University (2017 - 2021)\n",
      "\n",
      "**Certifications**\n",
      "\n",
      "* Introduction to SQL\n",
      "* Quantization in Depth\n",
      "* Digitalisation in the Aerospace Industry\n",
      "* Machine Learning\n",
      "* Introduction to Data Science in Python\n",
      "\n",
      "**Job Post**\n",
      "\n",
      "* Intern - Software Engineer at Rakuten\n",
      "\t+ Develop multiple approaches to a solution, deploy them in an A/B test to customers, learn and adapt from the results.\n",
      "\t+ Analyze, develop, and recommend metrics to drive business decisions.\n",
      "\t+ Collaborate with project manager, developers, and business units to develop products & services.\n",
      "\t+ Strong software development ability in Java, C, C++, Python, algorithms, and similar.\n",
      "\t+ UI building with MVC principles a plus.\n",
      "\t+ Knowledge of API usage.\n",
      "\t+ Solid understanding of algorithms and data structures.\n",
      "\t+ Effective communication and collaboration skills.\n"
     ]
    }
   ],
   "source": [
    "CV = full_text_CV\n",
    "job_details = data1\n",
    "linkedin = full_text_linkedin\n",
    "\n",
    "\n",
    "messages = [\n",
    "    ChatMessage(\n",
    "        role=\"system\", content=\"You are an AI assitance that extract key information from user CV, lindedin profile and job post and only output the results in multiple unique bullet points\"\n",
    "    ),\n",
    "    ChatMessage(role=\"user\", content=f\"\"\"\n",
    "CV : {CV}\n",
    "Linkedin: {linkedin}\n",
    "Job details: {job_details}\n",
    "\"\"\"),\n",
    "]\n",
    "\n",
    "resp = llm.chat(messages)\n",
    "print(resp.message.content)"
   ]
  },
  {
   "cell_type": "code",
   "execution_count": 11,
   "metadata": {},
   "outputs": [
    {
     "name": "stdout",
     "output_type": "stream",
     "text": [
      "I believe I fit the role of Intern - Software Engineer at Rakuten for several reasons. Firstly, I possess strong software development abilities in languages such as Python, Java, C, and C++, which aligns with the job requirements. My experience in developing and deploying machine learning models demonstrates my ability to write efficient and effective code.\n",
      "\n",
      "Additionally, my experience as a Session Lead at Udacity has honed my ability to communicate complex technical concepts effectively and work collaboratively with diverse stakeholders, which is essential for the role. Furthermore, my solid understanding of data science and miscellaneous technologies, including machine learning, deep learning, and NLP, enables me to analyze data and develop metrics that drive business decisions.\n",
      "\n",
      "Lastly, my strong communication skills, developed through my experience as a Machine Learning Engineer and Session Lead, allow me to work effectively with cross-functional teams and stakeholders. Overall, my technical skills, collaborative experience, analytical abilities, and strong communication skills make me a strong fit for the role of Intern - Software Engineer at Rakuten.\n"
     ]
    }
   ],
   "source": [
    "context = resp.message.content\n",
    "question = \"why do you think you fit the role?\"\n",
    "\n",
    "messages = [\n",
    "    ChatMessage(\n",
    "        role=\"system\", content=f\"\"\"You are an AI assitance that answer job related questions based on \n",
    "        context provided which include key informtation of user CV, linkedin profile and job. Answer in a formal way and\n",
    "        don't mention the source of your information.\n",
    "        context = {context}\n",
    "        \"\"\"\n",
    "    ),\n",
    "    ChatMessage(role=\"user\", content=f\"\"\"qestion: {question}\n",
    "                Answer: \"\"\"),\n",
    "]\n",
    "\n",
    "resp = llm.chat(messages)\n",
    "print(resp.message.content)"
   ]
  },
  {
   "cell_type": "code",
   "execution_count": 25,
   "metadata": {},
   "outputs": [
    {
     "name": "stdout",
     "output_type": "stream",
     "text": [
      "Dear Hiring Manager,\n",
      "\n",
      "I am excited to apply for the Intern - Software Engineer position at Rakuten, where I can leverage my skills and experience in machine learning and software development to drive business growth and innovation.\n",
      "\n",
      "As a Machine Learning Engineer with a strong foundation in problem-solving and analytical background, I am confident in my ability to develop multiple approaches to a solution and deploy them in an A/B test to customers. My expertise in delivering significant results, including cost-saving mobile OCR models and improved risk assessment algorithms, demonstrates my capability to analyze, develop, and recommend metrics to drive business decisions.\n",
      "\n",
      "In my current role as a Machine Learning Engineer at Blnk.ai, I have successfully created a RAG system using open source LLMs for company’s technical documentation and built a machine learning pipeline using Whisper (OpenAI LLM) fine-tuned to transcribe Arabic call center conversations. I have also trained and deployed in-house efficient quantized OCR deep learning models on mobile devices, which has enhanced delinquency and risk assessment algorithms, improving accuracy by 20%.\n",
      "\n",
      "As a Session Lead (Artificial Intelligent) at Udacity, I have led weekly sessions to address technical queries from students enrolled in Nanodegree programs, facilitating a learning environment that fosters student engagement and self-empowerment through education. This experience has honed my ability to collaborate with project managers, developers, and business units to develop products & services.\n",
      "\n",
      "I am proficient in a range of programming languages, including Python, C/C++, and have experience with various frameworks and libraries such as Llama.cpp, Langchain, LlamaIndex, Pandas, NumPy, Scikit-learn, TensorFlow, PyTorch, OpenCV, TensorRT, Flutter, ONNX, and Docker. My skills in machine learning, deep learning, LLMs, AI agent, Prompt Engineering, NLP, Git, Web Scraping, Agile methodologies, Quantization, and GPU Optimization make me a strong fit for this role.\n",
      "\n",
      "I am excited about the opportunity to bring my skills and experience to Rakuten and contribute to the development of innovative products and services. Thank you for considering my application. I look forward to discussing my qualifications further.\n",
      "\n",
      "Sincerely,\n",
      "Mohamed A. Ali\n"
     ]
    }
   ],
   "source": [
    "context = resp.message.content\n",
    "\n",
    "messages = f\"\"\"You are an AI assitance that writes a cover letter based on \n",
    "        context provided which include key informtation of user CV, linkedin profile and\n",
    "        job details.\n",
    "        Answer in a formal and clear way and don't mention source of information.\n",
    "        Use the name in the CV for the cover letter signing off.\n",
    "        context = {context}\n",
    "        cover letter:\n",
    "\n",
    "        \"\"\"\n",
    "\n",
    "resp = llm.complete(messages)\n",
    "print(resp.text)"
   ]
  }
 ],
 "metadata": {
  "kernelspec": {
   "display_name": "Python 3",
   "language": "python",
   "name": "python3"
  },
  "language_info": {
   "codemirror_mode": {
    "name": "ipython",
    "version": 3
   },
   "file_extension": ".py",
   "mimetype": "text/x-python",
   "name": "python",
   "nbconvert_exporter": "python",
   "pygments_lexer": "ipython3",
   "version": "3.9.7"
  }
 },
 "nbformat": 4,
 "nbformat_minor": 2
}
