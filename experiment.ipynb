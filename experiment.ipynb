{
 "cells": [
  {
   "cell_type": "code",
   "execution_count": 16,
   "metadata": {},
   "outputs": [],
   "source": [
    "import os\n",
    "from together import Together\n",
    "from dotenv import load_dotenv\n",
    "from llama_parse import LlamaParse\n",
    "from llama_index.core import SimpleDirectoryReader\n",
    "import nest_asyncio\n",
    "import glob"
   ]
  },
  {
   "cell_type": "code",
   "execution_count": 17,
   "metadata": {},
   "outputs": [],
   "source": [
    "load_dotenv()\n",
    "nest_asyncio.apply()"
   ]
  },
  {
   "cell_type": "code",
   "execution_count": 18,
   "metadata": {},
   "outputs": [],
   "source": [
    "parser = LlamaParse(\n",
    "    result_type=\"markdown\"  # \"markdown\" and \"text\" are available\n",
    ")\n",
    "\n",
    "file_extractor_pdf = {\".pdf\": parser}\n"
   ]
  },
  {
   "cell_type": "code",
   "execution_count": 19,
   "metadata": {},
   "outputs": [
    {
     "name": "stdout",
     "output_type": "stream",
     "text": [
      "Started parsing the file under job_id cac11eca-66cd-46ef-aa01-1a36eee7ef3d\n",
      "Started parsing the file under job_id aec2b4ce-960f-4101-a22e-be7092f655ea\n"
     ]
    }
   ],
   "source": [
    "documents = SimpleDirectoryReader(input_files=glob.glob('assets\\*.pdf'), file_extractor=file_extractor_pdf).load_data()"
   ]
  },
  {
   "cell_type": "code",
   "execution_count": 24,
   "metadata": {},
   "outputs": [
    {
     "data": {
      "text/plain": [
       "Document(id_='19692a8b-7fc2-4d86-95f4-38e66fb8024a', embedding=None, metadata={'file_path': 'assets\\\\Profile.pdf', 'file_name': 'Profile.pdf', 'file_type': 'application/pdf', 'file_size': 55094, 'creation_date': '2024-07-21', 'last_modified_date': '2024-07-21'}, excluded_embed_metadata_keys=['file_name', 'file_type', 'file_size', 'creation_date', 'last_modified_date', 'last_accessed_date'], excluded_llm_metadata_keys=['file_name', 'file_type', 'file_size', 'creation_date', 'last_modified_date', 'last_accessed_date'], relationships={}, text='# Self-Employed\\n\\nMotion Graphic Artist\\n\\n2015 - 2022 (7 years)\\n\\nEgypt\\n\\nWorked as a video editor and motion graphics artist as a side gig during my school and college studies\\n\\n- Created motion graphics and artistic projects for multiple clients ranging from 2D and 3D animations\\n- Maintained 5-star rating with over 100+ positive reviews on freelancing platforms\\n- Proficient with Adobe suite and Blender 3D\\n\\n# TechQuotes\\n\\nCo-Founder\\n\\n2017 - 2020 (3 years)\\n\\nEgypt\\n\\nAn organization made by geeks for geeks. Helping the MENA community with all Technology related tips and tricks. Recognized as one of the top followed Technology channels in Egypt and the Arab world with almost half a million followers.\\n\\n# EGYPTAIR\\n\\nAerospace Engineer\\n\\n2019 - 2019 (less than a year)\\n\\nCairo, Egypt\\n\\n- Carried out repair and maintenance procedures of airplane structure.\\n- Suggested a predictive maintenance strategy using regression models to predict remaining useful life (RUL)\\n- Conducted inspection and calibration of aircraft equipment and instruments.\\n\\n# Education\\n\\nCairo University\\n\\nBachelor of Engineering - BE, Aerospace, Aeronautical and Astronautical/Space Engineering · (2017 - 2021)\\n\\nOm El-Abtal Experimental Language school · (2004 - 2016)', mimetype='text/plain', start_char_idx=None, end_char_idx=None, text_template='{metadata_str}\\n\\n{content}', metadata_template='{key}: {value}', metadata_seperator='\\n')"
      ]
     },
     "execution_count": 24,
     "metadata": {},
     "output_type": "execute_result"
    }
   ],
   "source": []
  },
  {
   "cell_type": "code",
   "execution_count": 22,
   "metadata": {},
   "outputs": [
    {
     "name": "stdout",
     "output_type": "stream",
     "text": [
      "# Contact\n",
      "\n",
      "+201113393095 (Mobile)\n",
      "\n",
      "mohahmx2@gmail.com\n",
      "\n",
      "www.linkedin.com/in/mohamedahmedx2 (LinkedIn)\n",
      "\n",
      "github.com/MightyStud (Portfolio)\n",
      "\n",
      "www.kaggle.com/mohamedahmedx2 (Portfolio)\n",
      "\n",
      "www.behance.net/MightyHammer (Portfolio)\n",
      "\n",
      "# Top Skills\n",
      "\n",
      "LangChain\n",
      "\n",
      "Large Language Models (LLM)\n",
      "\n",
      "genai\n",
      "\n",
      "# Languages\n",
      "\n",
      "English (Native or Bilingual)\n",
      "\n",
      "German (Limited Working)\n",
      "\n",
      "# Certifications\n",
      "\n",
      "Introduction to SQL\n",
      "\n",
      "Quantization in Depth\n",
      "\n",
      "Digitalisation in the Aerospace Industry\n",
      "\n",
      "Machine Learning\n",
      "\n",
      "Introduction to Data Science in Python\n",
      "\n",
      "# Mohamed Ahmed\n",
      "\n",
      "Machine learning Eng. @blnk\n",
      "\n",
      "El Sheikh Zaid, Al Jizah, Egypt\n",
      "\n",
      "# Summary\n",
      "\n",
      "A passionate Machine Learning Engineer with a strong foundation in problem-solving, I leverage my analytical background to drive innovation in AI. My expertise has delivered significant results, from cost-saving mobile OCR models to improved risk assessment algorithms. I excel in collaborative environments, having integrated multiple models for real-time inference and co-developed innovative AI solutions. My passion extends beyond technical expertise; I actively share knowledge through workshops, videos and empower students as an AI Session Lead.\n",
      "\n",
      "# Experience\n",
      "\n",
      "|blnk|Machine Learning Engineer|March 2023 - Present (1 year 5 months)|Egypt|\n",
      "|---|---|---|---|\n",
      "|Udacity|Session Lead|December 2022 - May 2023 (6 months)|Artificial intelligence nanodegree session lead position at Udacity|\n",
      "|Omdena|Chapter Lead - Data Science Mentor|October 2022 - March 2023 (6 months)|Giza, Al Jizah, Egypt|\n",
      "\n",
      "Giza, Egypt Chapter leader at Omdena Initiative, where data enthusiasts gather to collaborate on real-world problems and figure novel solutions derived by data. As a chapter leader, I'm responsible for:\n",
      "\n",
      "- Running open-source AI projects that solve local problems\n",
      "- Guide collaborators and provide assistance when needed\n",
      "- Manage, track and make decisive actions related to the project and the team\n",
      "\n",
      "Page 1 of 2\n"
     ]
    }
   ],
   "source": [
    "print(documents[1].text)"
   ]
  },
  {
   "cell_type": "code",
   "execution_count": 1,
   "metadata": {},
   "outputs": [
    {
     "ename": "KeyboardInterrupt",
     "evalue": "",
     "output_type": "error",
     "traceback": [
      "\u001b[1;31m---------------------------------------------------------------------------\u001b[0m",
      "\u001b[1;31mKeyboardInterrupt\u001b[0m                         Traceback (most recent call last)",
      "\u001b[1;32m~\\AppData\\Local\\Temp/ipykernel_9048/3416354812.py\u001b[0m in \u001b[0;36m<module>\u001b[1;34m\u001b[0m\n\u001b[0;32m      4\u001b[0m \u001b[0mclient\u001b[0m \u001b[1;33m=\u001b[0m \u001b[0mTogether\u001b[0m\u001b[1;33m(\u001b[0m\u001b[0mapi_key\u001b[0m\u001b[1;33m=\u001b[0m\u001b[0mos\u001b[0m\u001b[1;33m.\u001b[0m\u001b[0menviron\u001b[0m\u001b[1;33m.\u001b[0m\u001b[0mget\u001b[0m\u001b[1;33m(\u001b[0m\u001b[1;34m'TOGETHER_API_KEY'\u001b[0m\u001b[1;33m)\u001b[0m\u001b[1;33m)\u001b[0m\u001b[1;33m\u001b[0m\u001b[1;33m\u001b[0m\u001b[0m\n\u001b[0;32m      5\u001b[0m \u001b[1;33m\u001b[0m\u001b[0m\n\u001b[1;32m----> 6\u001b[1;33m response = client.chat.completions.create(\n\u001b[0m\u001b[0;32m      7\u001b[0m     \u001b[0mmodel\u001b[0m\u001b[1;33m=\u001b[0m\u001b[1;34m\"meta-llama/Meta-Llama-3-70B-Instruct-Turbo\"\u001b[0m\u001b[1;33m,\u001b[0m\u001b[1;33m\u001b[0m\u001b[1;33m\u001b[0m\u001b[0m\n\u001b[0;32m      8\u001b[0m     messages=[{\n",
      "\u001b[1;32mc:\\Users\\moh00\\anaconda3\\lib\\site-packages\\together\\resources\\chat\\completions.py\u001b[0m in \u001b[0;36mcreate\u001b[1;34m(self, messages, model, max_tokens, stop, temperature, top_p, top_k, repetition_penalty, presence_penalty, frequency_penalty, min_p, logit_bias, stream, logprobs, echo, n, safety_model, response_format, tools, tool_choice)\u001b[0m\n\u001b[0;32m    134\u001b[0m         ).model_dump()\n\u001b[0;32m    135\u001b[0m \u001b[1;33m\u001b[0m\u001b[0m\n\u001b[1;32m--> 136\u001b[1;33m         response, _, _ = requestor.request(\n\u001b[0m\u001b[0;32m    137\u001b[0m             options=TogetherRequest(\n\u001b[0;32m    138\u001b[0m                 \u001b[0mmethod\u001b[0m\u001b[1;33m=\u001b[0m\u001b[1;34m\"POST\"\u001b[0m\u001b[1;33m,\u001b[0m\u001b[1;33m\u001b[0m\u001b[1;33m\u001b[0m\u001b[0m\n",
      "\u001b[1;32mc:\\Users\\moh00\\anaconda3\\lib\\site-packages\\together\\abstract\\api_requestor.py\u001b[0m in \u001b[0;36mrequest\u001b[1;34m(self, options, stream, remaining_retries, request_timeout)\u001b[0m\n\u001b[0;32m    240\u001b[0m         \u001b[0mstr\u001b[0m \u001b[1;33m|\u001b[0m \u001b[1;32mNone\u001b[0m\u001b[1;33m,\u001b[0m\u001b[1;33m\u001b[0m\u001b[1;33m\u001b[0m\u001b[0m\n\u001b[0;32m    241\u001b[0m     ]:\n\u001b[1;32m--> 242\u001b[1;33m         result = self.request_raw(\n\u001b[0m\u001b[0;32m    243\u001b[0m             \u001b[0moptions\u001b[0m\u001b[1;33m=\u001b[0m\u001b[0moptions\u001b[0m\u001b[1;33m,\u001b[0m\u001b[1;33m\u001b[0m\u001b[1;33m\u001b[0m\u001b[0m\n\u001b[0;32m    244\u001b[0m             \u001b[0mremaining_retries\u001b[0m\u001b[1;33m=\u001b[0m\u001b[0mremaining_retries\u001b[0m \u001b[1;32mor\u001b[0m \u001b[0mself\u001b[0m\u001b[1;33m.\u001b[0m\u001b[0mretries\u001b[0m\u001b[1;33m,\u001b[0m\u001b[1;33m\u001b[0m\u001b[1;33m\u001b[0m\u001b[0m\n",
      "\u001b[1;32mc:\\Users\\moh00\\anaconda3\\lib\\site-packages\\together\\abstract\\api_requestor.py\u001b[0m in \u001b[0;36mrequest_raw\u001b[1;34m(self, options, remaining_retries, stream, request_timeout, absolute)\u001b[0m\n\u001b[0;32m    534\u001b[0m \u001b[1;33m\u001b[0m\u001b[0m\n\u001b[0;32m    535\u001b[0m             \u001b[1;32mif\u001b[0m \u001b[0mremaining_retries\u001b[0m \u001b[1;33m>\u001b[0m \u001b[1;36m0\u001b[0m\u001b[1;33m:\u001b[0m\u001b[1;33m\u001b[0m\u001b[1;33m\u001b[0m\u001b[0m\n\u001b[1;32m--> 536\u001b[1;33m                 return self._retry_request(\n\u001b[0m\u001b[0;32m    537\u001b[0m                     \u001b[0moptions\u001b[0m\u001b[1;33m,\u001b[0m\u001b[1;33m\u001b[0m\u001b[1;33m\u001b[0m\u001b[0m\n\u001b[0;32m    538\u001b[0m                     \u001b[0mremaining_retries\u001b[0m\u001b[1;33m=\u001b[0m\u001b[0mremaining_retries\u001b[0m\u001b[1;33m,\u001b[0m\u001b[1;33m\u001b[0m\u001b[1;33m\u001b[0m\u001b[0m\n",
      "\u001b[1;32mc:\\Users\\moh00\\anaconda3\\lib\\site-packages\\together\\abstract\\api_requestor.py\u001b[0m in \u001b[0;36m_retry_request\u001b[1;34m(self, options, remaining_retries, response_headers, stream, request_timeout)\u001b[0m\n\u001b[0;32m    192\u001b[0m         \u001b[0mtime\u001b[0m\u001b[1;33m.\u001b[0m\u001b[0msleep\u001b[0m\u001b[1;33m(\u001b[0m\u001b[0mtimeout\u001b[0m\u001b[1;33m)\u001b[0m\u001b[1;33m\u001b[0m\u001b[1;33m\u001b[0m\u001b[0m\n\u001b[0;32m    193\u001b[0m \u001b[1;33m\u001b[0m\u001b[0m\n\u001b[1;32m--> 194\u001b[1;33m         return self.request_raw(\n\u001b[0m\u001b[0;32m    195\u001b[0m             \u001b[0moptions\u001b[0m\u001b[1;33m=\u001b[0m\u001b[0moptions\u001b[0m\u001b[1;33m,\u001b[0m\u001b[1;33m\u001b[0m\u001b[1;33m\u001b[0m\u001b[0m\n\u001b[0;32m    196\u001b[0m             \u001b[0mstream\u001b[0m\u001b[1;33m=\u001b[0m\u001b[0mstream\u001b[0m\u001b[1;33m,\u001b[0m\u001b[1;33m\u001b[0m\u001b[1;33m\u001b[0m\u001b[0m\n",
      "\u001b[1;32mc:\\Users\\moh00\\anaconda3\\lib\\site-packages\\together\\abstract\\api_requestor.py\u001b[0m in \u001b[0;36mrequest_raw\u001b[1;34m(self, options, remaining_retries, stream, request_timeout, absolute)\u001b[0m\n\u001b[0;32m    534\u001b[0m \u001b[1;33m\u001b[0m\u001b[0m\n\u001b[0;32m    535\u001b[0m             \u001b[1;32mif\u001b[0m \u001b[0mremaining_retries\u001b[0m \u001b[1;33m>\u001b[0m \u001b[1;36m0\u001b[0m\u001b[1;33m:\u001b[0m\u001b[1;33m\u001b[0m\u001b[1;33m\u001b[0m\u001b[0m\n\u001b[1;32m--> 536\u001b[1;33m                 return self._retry_request(\n\u001b[0m\u001b[0;32m    537\u001b[0m                     \u001b[0moptions\u001b[0m\u001b[1;33m,\u001b[0m\u001b[1;33m\u001b[0m\u001b[1;33m\u001b[0m\u001b[0m\n\u001b[0;32m    538\u001b[0m                     \u001b[0mremaining_retries\u001b[0m\u001b[1;33m=\u001b[0m\u001b[0mremaining_retries\u001b[0m\u001b[1;33m,\u001b[0m\u001b[1;33m\u001b[0m\u001b[1;33m\u001b[0m\u001b[0m\n",
      "\u001b[1;32mc:\\Users\\moh00\\anaconda3\\lib\\site-packages\\together\\abstract\\api_requestor.py\u001b[0m in \u001b[0;36m_retry_request\u001b[1;34m(self, options, remaining_retries, response_headers, stream, request_timeout)\u001b[0m\n\u001b[0;32m    190\u001b[0m         \u001b[1;31m# In a synchronous context we are blocking the entire thread. Up to the library user to run the client in a\u001b[0m\u001b[1;33m\u001b[0m\u001b[1;33m\u001b[0m\u001b[0m\n\u001b[0;32m    191\u001b[0m         \u001b[1;31m# different thread if necessary.\u001b[0m\u001b[1;33m\u001b[0m\u001b[1;33m\u001b[0m\u001b[0m\n\u001b[1;32m--> 192\u001b[1;33m         \u001b[0mtime\u001b[0m\u001b[1;33m.\u001b[0m\u001b[0msleep\u001b[0m\u001b[1;33m(\u001b[0m\u001b[0mtimeout\u001b[0m\u001b[1;33m)\u001b[0m\u001b[1;33m\u001b[0m\u001b[1;33m\u001b[0m\u001b[0m\n\u001b[0m\u001b[0;32m    193\u001b[0m \u001b[1;33m\u001b[0m\u001b[0m\n\u001b[0;32m    194\u001b[0m         return self.request_raw(\n",
      "\u001b[1;31mKeyboardInterrupt\u001b[0m: "
     ]
    }
   ],
   "source": [
    "import os\n",
    "from together import Together\n",
    "\n",
    "client = Together(api_key=os.environ.get('TOGETHER_API_KEY'))\n",
    "CV = \"\"\n",
    "company_about = \"\"\n",
    "job_details = \"\"\n",
    "question = \"\"\n",
    "linkedin = \"\"\n",
    "\n",
    "response = client.chat.completions.create(\n",
    "    model=\"meta-llama/Meta-Llama-3-70B-Instruct-Turbo\",\n",
    "    messages=[{\n",
    "        \"role\": \"system\",\n",
    "        \"content\": \"You are an AI assitance that answer job related questions based on user CV, job post and company about section in a formal way\",\n",
    "        \"role\": \"user\",\n",
    "        \"content\":\n",
    "        f\"\"\"\n",
    "CV : {CV}\n",
    "Linkedin: {linkedin}\n",
    "Job details: {job_details}\n",
    "Company about: {company_about}\n",
    "Question: {question}\n",
    "\"\"\"\n",
    "        }],\n",
    "    max_tokens=512,\n",
    "    temperature=0.3,\n",
    "    repetition_penalty=1,\n",
    "    stop=[\"<|eot_id|>\"],\n",
    "    stream=False\n",
    ")\n",
    "print(response.choices[0].message.content)"
   ]
  },
  {
   "cell_type": "code",
   "execution_count": 5,
   "metadata": {},
   "outputs": [
    {
     "data": {
      "text/plain": [
       "[ChatCompletionChoicesData(index=0, logprobs=None, finish_reason=<FinishReason.Length: 'length'>, message=ChatCompletionMessage(role=<MessageRole.ASSISTANT: 'assistant'>, content=\"The city that never sleeps! New York City is a vibrant and exciting destination that offers something for everyone. Here are some fun things to do in New York:\\n\\n**Iconic Landmarks:**\\n\\n1. Visit the Statue of Liberty and Ellis Island: Take a ferry to Liberty Island to see up close the iconic statue and learn about its history at the nearby Ellis Island Immigration Museum.\\n2. Explore the Empire State Building: Enjoy panoramic views of the city from the observation deck of this iconic skyscraper.\\n3. Walk across the Brooklyn Bridge: Take in the stunning views of the Manhattan skyline and the East River while walking across this historic bridge.\\n\\n**Museums and Galleries:**\\n\\n1. The Metropolitan Museum of Art: One of the world's largest and most famous museums, with a collection that spans over 5,000 years of human history.\\n2. The Museum of Modern Art (MoMA): A must-visit for modern art enthusiasts, with a collection that includes works by Warhol, Picasso, and Pollock.\\n3. The Guggenheim Museum: Designed by Frank Lloyd Wright, this museum features an impressive collection of modern and contemporary art.\\n\\n**Performing Arts:**\\n\\n1. Catch a Broadway Show: From classic musicals to contemporary hits, Broadway offers a wide range of productions to suit all tastes.\\n2. Visit Carnegie Hall: One of the most prestigious concert venues in the world, hosting performances by top musicians and orchestras.\\n3. Explore the Lincoln Center: Home to the New York City Ballet, the Metropolitan Opera, and the Juilliard School, among others.\\n\\n**Neighborhoods to Explore:**\\n\\n1. Times Square: Known for its bright lights, giant billboards, and lively atmosphere.\\n2. Greenwich Village: A charming neighborhood with a rich history, known for its bohemian vibe and trendy restaurants.\\n3. Chinatown and Little Italy: Experience the sights, sounds, and flavors of these vibrant neighborhoods.\\n\\n**Outdoor Activities:**\\n\\n1. Central Park: A tranquil oasis in the middle of Manhattan, offering walking paths, lakes, and plenty of green space.\\n2. Take a stroll along the High Line: An elevated park built on an old rail line, offering great views of the city.\\n3. Visit one of the many NYC beaches: Coney Island, Rockaway Beach, and Manhattan Beach are popular spots for sun, sand, and surf.\\n\\n**Food and Drink:**\\n\\n1. Try a classic New York-style pizza: Lombardi's, Joe's Pizza, and Patsy's\", tool_calls=None), seed=17345097516253303000)]"
      ]
     },
     "execution_count": 5,
     "metadata": {},
     "output_type": "execute_result"
    }
   ],
   "source": [
    "response = client.chat.completions.create(\n",
    "    model=\"meta-llama/Meta-Llama-3-70B-Instruct-Turbo\",\n",
    "    messages=[{\n",
    "        \"role\": \"system\",\n",
    "        \"content\": \"You are an AI assitance that answer job related questions based on user CV, job post and company about section in a formal way\",\n",
    "        \"role\": \"user\",\n",
    "        \"content\":\n",
    "        f\"\"\"\n",
    "CV : {CV}\n",
    "Linkedin: {linkedin}\n",
    "Job details: {job_details}\n",
    "Company about: {company_about}\n",
    "Question: {question}\n",
    "\"\"\"\n",
    "        }],\n",
    "    max_tokens=512,\n",
    "    temperature=0.3,\n",
    "    repetition_penalty=1,\n",
    "    stop=[\"<|eot_id|>\"],\n",
    "    stream=False\n",
    ")\n",
    "print(response.choices[0].message.content)"
   ]
  },
  {
   "cell_type": "code",
   "execution_count": null,
   "metadata": {},
   "outputs": [
    {
     "ename": "AttributeError",
     "evalue": "'tuple' object has no attribute 'choices'",
     "output_type": "error",
     "traceback": [
      "\u001b[0;31m---------------------------------------------------------------------------\u001b[0m",
      "\u001b[0;31mAttributeError\u001b[0m                            Traceback (most recent call last)",
      "Cell \u001b[0;32mIn[5], line 10\u001b[0m\n\u001b[1;32m      3\u001b[0m stream \u001b[38;5;241m=\u001b[39m client\u001b[38;5;241m.\u001b[39mchat\u001b[38;5;241m.\u001b[39mcompletions\u001b[38;5;241m.\u001b[39mcreate(\n\u001b[1;32m      4\u001b[0m   model\u001b[38;5;241m=\u001b[39m\u001b[38;5;124m\"\u001b[39m\u001b[38;5;124mmeta-llama/Meta-Llama-3-70B-Instruct-Turbo\u001b[39m\u001b[38;5;124m\"\u001b[39m,\n\u001b[1;32m      5\u001b[0m   messages\u001b[38;5;241m=\u001b[39m[{\u001b[38;5;124m\"\u001b[39m\u001b[38;5;124mrole\u001b[39m\u001b[38;5;124m\"\u001b[39m: \u001b[38;5;124m\"\u001b[39m\u001b[38;5;124muser\u001b[39m\u001b[38;5;124m\"\u001b[39m, \u001b[38;5;124m\"\u001b[39m\u001b[38;5;124mcontent\u001b[39m\u001b[38;5;124m\"\u001b[39m: \u001b[38;5;124m\"\u001b[39m\u001b[38;5;124mWhat are some fun things to do in New York?\u001b[39m\u001b[38;5;124m\"\u001b[39m}],\n\u001b[1;32m      6\u001b[0m   stream\u001b[38;5;241m=\u001b[39m\u001b[38;5;28;01mFalse\u001b[39;00m,\n\u001b[1;32m      7\u001b[0m )\n\u001b[1;32m      9\u001b[0m \u001b[38;5;28;01mfor\u001b[39;00m chunk \u001b[38;5;129;01min\u001b[39;00m stream:\n\u001b[0;32m---> 10\u001b[0m   \u001b[38;5;28mprint\u001b[39m(\u001b[43mchunk\u001b[49m\u001b[38;5;241;43m.\u001b[39;49m\u001b[43mchoices\u001b[49m[\u001b[38;5;241m0\u001b[39m]\u001b[38;5;241m.\u001b[39mdelta\u001b[38;5;241m.\u001b[39mcontent \u001b[38;5;129;01mor\u001b[39;00m \u001b[38;5;124m\"\u001b[39m\u001b[38;5;124m\"\u001b[39m, end\u001b[38;5;241m=\u001b[39m\u001b[38;5;124m\"\u001b[39m\u001b[38;5;124m\"\u001b[39m, flush\u001b[38;5;241m=\u001b[39m\u001b[38;5;28;01mTrue\u001b[39;00m)\n",
      "\u001b[0;31mAttributeError\u001b[0m: 'tuple' object has no attribute 'choices'"
     ]
    }
   ],
   "source": [
    "\n",
    "client = Together(api_key=os.environ.get(\"TOGETHER_API_KEY\"))\n",
    "\n",
    "stream = client.chat.completions.create(\n",
    "  model=\"meta-llama/Meta-Llama-3-70B-Instruct-Turbo\",\n",
    "  messages=[{\"role\": \"user\", \"content\": \"What are some fun things to do in New York?\"}],\n",
    "  stream=False,\n",
    ")\n",
    "\n",
    "for chunk in stream:\n",
    "  print(chunk.choices[0].delta.content or \"\", end=\"\", flush=True)\n"
   ]
  },
  {
   "cell_type": "code",
   "execution_count": null,
   "metadata": {},
   "outputs": [
    {
     "data": {
      "text/plain": [
       "ChatCompletionResponse(id='8a6528d7d836536c-CAI', object=<ObjectType.ChatCompletion: 'chat.completion'>, created=1721501670, model='meta-llama/Meta-Llama-3-70B-Instruct-Turbo', choices=[ChatCompletionChoicesData(index=0, logprobs=None, finish_reason=<FinishReason.EOS: 'eos'>, message=ChatCompletionMessage(role=<MessageRole.ASSISTANT: 'assistant'>, content=\"The city that never sleeps! New York City is a vibrant and exciting destination that offers something for everyone. Here are some fun things to do in New York:\\n\\n**Iconic Landmarks and Attractions:**\\n\\n1. **Statue of Liberty and Ellis Island**: Take a ferry to Liberty Island to see the iconic statue up close and visit the Ellis Island Immigration Museum.\\n2. **Central Park**: A tranquil oasis in the middle of Manhattan, perfect for a stroll, picnic, or bike ride.\\n3. **Empire State Building**: For a panoramic view of the city, head to the observation deck of this iconic skyscraper.\\n4. **Grand Central Terminal**: Admire the stunning architecture and bustling atmosphere of this famous train station.\\n5. **9/11 Memorial & Museum**: A poignant tribute to the victims of the 9/11 attacks.\\n\\n**Museums and Galleries:**\\n\\n1. **The Metropolitan Museum of Art**: One of the world's largest and most famous museums, with a collection of over 2 million works of art.\\n2. **American Museum of Natural History**: Explore the wonders of the natural world, from dinosaurs to space exploration.\\n3. **MoMA (Museum of Modern Art)**: A must-visit for modern art enthusiasts, with a collection of works by Warhol, Picasso, and more.\\n4. **Guggenheim Museum**: Designed by Frank Lloyd Wright, this museum features an impressive collection of modern and contemporary art.\\n\\n**Neighborhoods and Markets:**\\n\\n1. **Times Square**: The heart of New York's entertainment district, known for its bright lights, giant billboards, and lively atmosphere.\\n2. **Greenwich Village**: A charming neighborhood with a rich history, known for its bohemian vibe, trendy restaurants, and boutique shops.\\n3. **Chinatown and Little Italy**: Explore the vibrant streets of these two iconic neighborhoods, known for their street food, markets, and cultural attractions.\\n4. **Brooklyn Flea**: A popular market featuring local vendors selling everything from artisanal goods to vintage clothing.\\n\\n**Performing Arts and Entertainment:**\\n\\n1. **Broadway Shows**: Catch a performance of a hit musical or play on the Great White Way.\\n2. **Lincoln Center**: Home to the New York City Ballet, Metropolitan Opera, and other world-class performing arts organizations.\\n3. **Jazz Clubs**: New York is the birthplace of jazz, and you can find live music venues throughout the city.\\n4. **TV Show Tapings**: Attend a live taping of a TV show, such as The Tonight Show Starring Jimmy Fallon or Saturday Night Live.\\n\\n**Food and Drink:**\\n\\n1. **New York-Style Pizza**: Try a classic slice at one of the many iconic pizzerias, like Lombardi's or Joe's Pizza.\\n2. **Bagels**: Sample a freshly baked bagel with cream cheese or lox at a classic Jewish deli.\\n3. **Food Carts**: Try a hot dog or halal chicken from a street vendor.\\n4. **Rooftop Bars**: Enjoy a drink with a view at one of the many rooftop bars, like 230 Fifth or the Top of the Strand.\\n\\n**Seasonal Events and Activities:**\\n\\n1. **Macy's Thanksgiving Day Parade**: Watch the iconic parade featuring giant balloons and festive floats.\\n2. **Rockefeller Center Christmas Tree**: Visit the famous tree lighting ceremony and ice skating rink during the holiday season.\\n3. **Summer Concerts in the Park**: Enjoy free outdoor concerts in Central Park or other city parks during the summer months.\\n4. **US Open Tennis**: Catch a match at the USTA Billie Jean King National Tennis Center in Flushing Meadows Corona Park.\\n\\nThese are just a few of the many fun things to do in New York City. With so much to see and do, you're sure to have an unforgettable experience in the city that never sleeps!\", tool_calls=None), seed=14370373461670760000)], prompt=[], usage=UsageData(prompt_tokens=22, completion_tokens=803, total_tokens=825))"
      ]
     },
     "execution_count": 6,
     "metadata": {},
     "output_type": "execute_result"
    }
   ],
   "source": [
    "stream"
   ]
  },
  {
   "cell_type": "code",
   "execution_count": null,
   "metadata": {},
   "outputs": [],
   "source": []
  }
 ],
 "metadata": {
  "kernelspec": {
   "display_name": "Python 3",
   "language": "python",
   "name": "python3"
  },
  "language_info": {
   "codemirror_mode": {
    "name": "ipython",
    "version": 3
   },
   "file_extension": ".py",
   "mimetype": "text/x-python",
   "name": "python",
   "nbconvert_exporter": "python",
   "pygments_lexer": "ipython3",
   "version": "3.9.7"
  }
 },
 "nbformat": 4,
 "nbformat_minor": 2
}
